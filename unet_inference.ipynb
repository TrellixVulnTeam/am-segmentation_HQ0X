{
 "cells": [
  {
   "cell_type": "code",
   "execution_count": 1,
   "metadata": {},
   "outputs": [],
   "source": [
    "%load_ext autoreload\n",
    "%autoreload 2\n",
    "%matplotlib inline"
   ]
  },
  {
   "cell_type": "code",
   "execution_count": 2,
   "metadata": {},
   "outputs": [],
   "source": [
    "# from inference import SegmentationModel\n",
    "# segm_model = SegmentationModel('unet.pth')\n",
    "# pred_mask = segm_model.predict_mask('data/tasks/bac770ea-c9b2-4199-8f5d-245b9cc1e215')"
   ]
  },
  {
   "cell_type": "code",
   "execution_count": 3,
   "metadata": {},
   "outputs": [],
   "source": [
    "from pathlib import Path\n",
    "import torch\n",
    "from torch.utils.data import Dataset\n",
    "from albumentations.pytorch.transforms import img_to_tensor\n",
    "from albumentations import (\n",
    "    PadIfNeeded,\n",
    "    Compose,\n",
    "    Normalize,\n",
    ")\n",
    "import cv2\n",
    "import numpy as np"
   ]
  },
  {
   "cell_type": "code",
   "execution_count": 4,
   "metadata": {},
   "outputs": [],
   "source": [
    "import torch\n",
    "from torch.utils.data import DataLoader\n",
    "from dataset import slice_images_masks, slice_image\n",
    "from pathlib import Path\n",
    "from model import UNet11"
   ]
  },
  {
   "cell_type": "code",
   "execution_count": 5,
   "metadata": {},
   "outputs": [],
   "source": [
    "device = 'cpu'\n",
    "full_size = 4096\n",
    "n_splits = 8"
   ]
  },
  {
   "cell_type": "code",
   "execution_count": 6,
   "metadata": {},
   "outputs": [
    {
     "name": "stdout",
     "output_type": "stream",
     "text": [
      "data/tasks/bac770ea-c9b2-4199-8f5d-245b9cc1e215\n"
     ]
    }
   ],
   "source": [
    "image_dir = 'data/tasks/bac770ea-c9b2-4199-8f5d-245b9cc1e215'\n",
    "images, masks, source_image_padding = slice_images_masks([image_dir], full_size=full_size, n_splits=n_splits)"
   ]
  },
  {
   "cell_type": "code",
   "execution_count": 7,
   "metadata": {},
   "outputs": [
    {
     "data": {
      "text/plain": [
       "{'data/tasks/bac770ea-c9b2-4199-8f5d-245b9cc1e215': [398, 349]}"
      ]
     },
     "execution_count": 7,
     "metadata": {},
     "output_type": "execute_result"
    }
   ],
   "source": [
    "source_image_padding"
   ]
  },
  {
   "cell_type": "code",
   "execution_count": 8,
   "metadata": {},
   "outputs": [],
   "source": [
    "default_transform = Compose([\n",
    "    Normalize(p=1),\n",
    "], p=1)"
   ]
  },
  {
   "cell_type": "code",
   "execution_count": 9,
   "metadata": {},
   "outputs": [],
   "source": [
    "image_tensors = [img_to_tensor(default_transform(image=img)['image']) for img in images]"
   ]
  },
  {
   "cell_type": "code",
   "execution_count": 10,
   "metadata": {},
   "outputs": [],
   "source": [
    "model = UNet11(pretrained=False)\n",
    "state = torch.load(open('unet.pth', 'rb'), map_location=device)\n",
    "model.load_state_dict(state)\n",
    "model = model.to(device)"
   ]
  },
  {
   "cell_type": "code",
   "execution_count": 15,
   "metadata": {},
   "outputs": [
    {
     "name": "stdout",
     "output_type": "stream",
     "text": [
      "CPU times: user 20min 39s, sys: 2min 4s, total: 22min 44s\n",
      "Wall time: 7min 45s\n"
     ]
    }
   ],
   "source": [
    "%%time\n",
    "\n",
    "pred_outputs = []\n",
    "with torch.no_grad():\n",
    "    model.eval()\n",
    "    for inputs in image_tensors:\n",
    "        inputs = torch.unsqueeze(inputs, dim=0)\n",
    "        inputs = inputs.to(device)\n",
    "        outputs = model(inputs)\n",
    "        outputs = torch.sigmoid(outputs) > 0.3\n",
    "        pred_outputs.append(outputs)\n",
    "pred_outputs = torch.squeeze(torch.cat(pred_outputs))\n",
    "pred_outputs = pred_outputs.detach().cpu().numpy()"
   ]
  },
  {
   "cell_type": "code",
   "execution_count": 24,
   "metadata": {},
   "outputs": [
    {
     "data": {
      "text/plain": [
       "(64, 512, 512)"
      ]
     },
     "execution_count": 24,
     "metadata": {},
     "output_type": "execute_result"
    }
   ],
   "source": [
    "pred_outputs.shape"
   ]
  },
  {
   "cell_type": "code",
   "execution_count": 86,
   "metadata": {},
   "outputs": [],
   "source": [
    "pred_mask = combine_tiles(pred_outputs, full_size, n_splits)\n",
    "row_pad, col_pad = source_image_padding[image_dir]\n",
    "pred_mask = remove_padding(pred_mask, full_size, row_pad, col_pad)"
   ]
  },
  {
   "cell_type": "code",
   "execution_count": 87,
   "metadata": {},
   "outputs": [],
   "source": [
    "# pred_mask_3ch = np.stack([pred_mask]*3, axis=2)"
   ]
  },
  {
   "cell_type": "code",
   "execution_count": 88,
   "metadata": {},
   "outputs": [
    {
     "data": {
      "text/plain": [
       "(3698, 3747)"
      ]
     },
     "execution_count": 88,
     "metadata": {},
     "output_type": "execute_result"
    }
   ],
   "source": [
    "pred_mask.shape"
   ]
  },
  {
   "cell_type": "code",
   "execution_count": 89,
   "metadata": {},
   "outputs": [],
   "source": [
    "pred_mask = (pred_mask * 255).astype(np.uint8)\n",
    "image = Image.fromarray(pred_mask, mode='L')\n",
    "image.save(Path(image_dir) / 'mask.png')"
   ]
  },
  {
   "cell_type": "code",
   "execution_count": 50,
   "metadata": {},
   "outputs": [],
   "source": [
    "from PIL import Image"
   ]
  },
  {
   "cell_type": "code",
   "execution_count": 54,
   "metadata": {},
   "outputs": [],
   "source": [
    "img = Image.open('data/raw/n1_SELECTED/source.png')"
   ]
  },
  {
   "cell_type": "code",
   "execution_count": 55,
   "metadata": {},
   "outputs": [],
   "source": [
    "a = np.array(img)"
   ]
  },
  {
   "cell_type": "code",
   "execution_count": 56,
   "metadata": {},
   "outputs": [],
   "source": [
    "Image.fromarray(a[:512,:512], mode='L').save('data/raw/source_small.png')"
   ]
  },
  {
   "cell_type": "code",
   "execution_count": null,
   "metadata": {
    "collapsed": true
   },
   "outputs": [],
   "source": []
  },
  {
   "cell_type": "code",
   "execution_count": 99,
   "metadata": {
    "collapsed": true
   },
   "outputs": [],
   "source": [
    "import requests\n",
    "\n",
    "def count_words_at_url(url):\n",
    "    resp = requests.get(url)\n",
    "    return len(resp.text.split())"
   ]
  },
  {
   "cell_type": "code",
   "execution_count": 11,
   "metadata": {},
   "outputs": [],
   "source": [
    "# from rq import Queue\n",
    "# from redis import Redis\n",
    "# # from somewhere import count_words_at_url\n",
    "\n",
    "# # Tell RQ what Redis connection to use\n",
    "# redis_conn = Redis()\n",
    "# q = Queue(connection=redis_conn)  # no args implies the default queue\n",
    "\n",
    "# # Delay execution of count_words_at_url('http://nvie.com')\n",
    "# job = q.enqueue(count_words_at_url, 'http://nvie.com')\n",
    "# print(job.result)   # => None\n",
    "\n",
    "# # Now, wait a while, until the worker is finished\n",
    "# time.sleep(2)\n",
    "# print(job.result)   # => 889"
   ]
  },
  {
   "cell_type": "code",
   "execution_count": 47,
   "metadata": {},
   "outputs": [],
   "source": [
    "import redis\n",
    "client = redis.Redis()"
   ]
  },
  {
   "cell_type": "code",
   "execution_count": 48,
   "metadata": {},
   "outputs": [
    {
     "data": {
      "text/plain": [
       "1"
      ]
     },
     "execution_count": 48,
     "metadata": {},
     "output_type": "execute_result"
    }
   ],
   "source": [
    "client.lpush('task-queue', 'd9c80eb7-f0f3-4663-9c31-e3ff5261e939')"
   ]
  },
  {
   "cell_type": "code",
   "execution_count": 42,
   "metadata": {},
   "outputs": [
    {
     "data": {
      "text/plain": [
       "(b'd9c80eb7-f0f3-4663-9c31-e3ff5261e939',)"
      ]
     },
     "execution_count": 42,
     "metadata": {},
     "output_type": "execute_result"
    }
   ],
   "source": [
    "r = client.lpop('task-queue')\n",
    "(r,)"
   ]
  },
  {
   "cell_type": "code",
   "execution_count": 46,
   "metadata": {},
   "outputs": [
    {
     "data": {
      "text/plain": [
       "'d9c80eb7-f0f3-4663-9c31-e3ff5261e939'"
      ]
     },
     "execution_count": 46,
     "metadata": {},
     "output_type": "execute_result"
    }
   ],
   "source": [
    "r.decode('utf-8')"
   ]
  },
  {
   "cell_type": "code",
   "execution_count": null,
   "metadata": {},
   "outputs": [],
   "source": []
  }
 ],
 "metadata": {
  "kernelspec": {
   "display_name": "am_segm",
   "language": "python",
   "name": "am_segm"
  },
  "language_info": {
   "codemirror_mode": {
    "name": "ipython",
    "version": 3
   },
   "file_extension": ".py",
   "mimetype": "text/x-python",
   "name": "python",
   "nbconvert_exporter": "python",
   "pygments_lexer": "ipython3",
   "version": "3.6.8"
  }
 },
 "nbformat": 4,
 "nbformat_minor": 1
}
